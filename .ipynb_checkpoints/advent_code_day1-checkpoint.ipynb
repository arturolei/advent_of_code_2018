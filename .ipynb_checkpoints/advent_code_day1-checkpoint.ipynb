{
 "cells": [
  {
   "cell_type": "markdown",
   "metadata": {},
   "source": [
    "# Day 1: Advent of Code\n",
    "\n",
    "## [Advent of Code 1](https://adventofcode.com/2018/day/1)\n",
    "\n",
    "Basically, you need to sum the numbers up. I really didn't pay attention to the story. \n",
    "\n",
    "## Proposed Solution, Part 1:\n",
    "1. Use context manager (with open) to open and read files. \n",
    "2. Add to an array all those bits.\n",
    "3. Use int() and make all the numbers int and them sum up using reduce or a built-in function\n"
   ]
  },
  {
   "cell_type": "code",
   "execution_count": 12,
   "metadata": {},
   "outputs": [
    {
     "name": "stdout",
     "output_type": "stream",
     "text": [
      "The sum is 522\n"
     ]
    }
   ],
   "source": [
    "'''\n",
    "Rough Outline of Solution:\n",
    "1. Opened local text file, with open\n",
    "2. stripped white space from beginning and end of long string, \n",
    "3. Split string on \\n\n",
    "''' \n",
    "with open('raw_data_1.txt') as f:\n",
    "    nums_list = f.read().strip().split('\\n')\n",
    "#This is just to test my sanity and make sure the data is a list and contains numbers. \n",
    "#print(nums_list, type(nums_list))\n",
    "\n",
    "print ('The sum is',sum((int(num_str) for num_str in nums_list)))\n"
   ]
  },
  {
   "cell_type": "markdown",
   "metadata": {},
   "source": [
    "## Proposed Solution, Part 1:\n",
    "So, we want to know what's the first frequency (cumulative sum) that ends up recurring for the second time? Basically the first time the cumulative sum hits a value. \n",
    "\n",
    "1. Same thing as in part 1, get the data in an array. \n",
    "2. Create array of sums. Or maybe create one as you go along and add to it.\n",
    "3. Go through sum array, first duplicate entry, it's done? Or if that sum suddenly equals a past sum in increasing sum array, then it's the one and exit from loop. \n"
   ]
  },
  {
   "cell_type": "code",
   "execution_count": 16,
   "metadata": {},
   "outputs": [
    {
     "name": "stdout",
     "output_type": "stream",
     "text": [
      "[0]\n"
     ]
    },
    {
     "ename": "NameError",
     "evalue": "name 'first_match' is not defined",
     "output_type": "error",
     "traceback": [
      "\u001b[0;31m---------------------------------------------------------------------------\u001b[0m",
      "\u001b[0;31mNameError\u001b[0m                                 Traceback (most recent call last)",
      "\u001b[0;32m<ipython-input-16-377be6e894f9>\u001b[0m in \u001b[0;36m<module>\u001b[0;34m()\u001b[0m\n\u001b[1;32m     24\u001b[0m \u001b[0;34m\u001b[0m\u001b[0m\n\u001b[1;32m     25\u001b[0m \u001b[0;31m#print(sum_array)\u001b[0m\u001b[0;34m\u001b[0m\u001b[0;34m\u001b[0m\u001b[0m\n\u001b[0;32m---> 26\u001b[0;31m \u001b[0mprint\u001b[0m\u001b[0;34m(\u001b[0m\u001b[0mfirst_match\u001b[0m\u001b[0;34m)\u001b[0m\u001b[0;34m\u001b[0m\u001b[0m\n\u001b[0m",
      "\u001b[0;31mNameError\u001b[0m: name 'first_match' is not defined"
     ]
    }
   ],
   "source": [
    "'''\n",
    "Rough Outline of Solution:\n",
    "1. Opened local text file, with open\n",
    "2. stripped white space from beginning and end of long string, \n",
    "3. Split string on \\n\n",
    "''' \n",
    "with open('raw_data_1.txt') as f:\n",
    "    num_list = [int(element) for element in f.read().strip().split('\\n')]\n",
    "\n",
    "# print(num_list)\n",
    "\n",
    "sum_array = []\n",
    "curr_sum =0\n",
    "sum_array.append(curr_sum)\n",
    "print(sum_array)\n",
    "\n",
    "\n",
    "for num in num_list:\n",
    "    curr_sum = num + curr_sum\n",
    "    if curr_sum in sum_array:\n",
    "        first_match = curr_sum\n",
    "        break\n",
    "    else:\n",
    "        sum_array.append(curr_sum)\n",
    "\n",
    "#print(sum_array)\n",
    "print(first_match)\n"
   ]
  },
  {
   "cell_type": "code",
   "execution_count": null,
   "metadata": {},
   "outputs": [],
   "source": []
  }
 ],
 "metadata": {
  "kernelspec": {
   "display_name": "Python 3",
   "language": "python",
   "name": "python3"
  },
  "language_info": {
   "codemirror_mode": {
    "name": "ipython",
    "version": 3
   },
   "file_extension": ".py",
   "mimetype": "text/x-python",
   "name": "python",
   "nbconvert_exporter": "python",
   "pygments_lexer": "ipython3",
   "version": "3.7.0"
  }
 },
 "nbformat": 4,
 "nbformat_minor": 2
}
