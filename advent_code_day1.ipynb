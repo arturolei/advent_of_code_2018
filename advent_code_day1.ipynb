{
 "cells": [
  {
   "cell_type": "markdown",
   "metadata": {},
   "source": [
    "# Day 1: Advent of Code\n",
    "\n",
    "## [Advent of Code 1](https://adventofcode.com/2018/day/1)\n",
    "\n",
    "Basically, you need to sum the numbers up. I really didn't pay attention to the story. \n",
    "\n",
    "## Proposed Solution, Part 1:\n",
    "1. Use context manager (with open) to open and read files. \n",
    "2. Add to an array all those bits.\n",
    "3. Use int() and make all the numbers int and them sum up using reduce or a built-in function\n"
   ]
  },
  {
   "cell_type": "code",
   "execution_count": 12,
   "metadata": {},
   "outputs": [
    {
     "name": "stdout",
     "output_type": "stream",
     "text": [
      "The sum is 522\n"
     ]
    }
   ],
   "source": [
    "'''\n",
    "Rough Outline of Solution:\n",
    "1. Opened local text file, with open\n",
    "2. stripped white space from beginning and end of long string, \n",
    "3. Split string on \\n\n",
    "''' \n",
    "with open('raw_data_1.txt') as f:\n",
    "    nums_list = f.read().strip().split('\\n')\n",
    "#This is just to test my sanity and make sure the data is a list and contains numbers. \n",
    "#print(nums_list, type(nums_list))\n",
    "\n",
    "print ('The sum is',sum((int(num_str) for num_str in nums_list)))\n"
   ]
  },
  {
   "cell_type": "code",
   "execution_count": null,
   "metadata": {},
   "outputs": [],
   "source": []
  }
 ],
 "metadata": {
  "kernelspec": {
   "display_name": "Python 3",
   "language": "python",
   "name": "python3"
  },
  "language_info": {
   "codemirror_mode": {
    "name": "ipython",
    "version": 3
   },
   "file_extension": ".py",
   "mimetype": "text/x-python",
   "name": "python",
   "nbconvert_exporter": "python",
   "pygments_lexer": "ipython3",
   "version": "3.7.0"
  }
 },
 "nbformat": 4,
 "nbformat_minor": 2
}
