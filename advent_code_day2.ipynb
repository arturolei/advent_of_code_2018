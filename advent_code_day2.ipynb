{
 "cells": [
  {
   "cell_type": "markdown",
   "metadata": {},
   "source": [
    "# Day 2: Advent of Code\n",
    "\n",
    "## [Advent of Code 2](https://adventofcode.com/2018/day/2)\n",
    "\n",
    "## Day 2, Part 1:\n",
    "The problem (removed from the story which has to do with a mix-up of boxes some of which contain fabric):\n",
    "```\n",
    "To make sure you didn't miss any, you scan the likely candidate boxes again, counting the number that have an ID containing exactly two of any letter and then separately counting those with exactly three of any letter. You can multiply those two counts together to get a rudimentary checksum and compare it to what your device predicts.\n",
    "\n",
    "For example, if you see the following box IDs:\n",
    "abcdef contains no letters that appear exactly two or three times.\n",
    "bababc contains two a and three b, so it counts for both.\n",
    "abbcde contains two b, but no letter appears exactly three times.\n",
    "abcccd contains three c, but no letter appears exactly two times.\n",
    "aabcdd contains two a and two d, but it only counts once.\n",
    "abcdee contains two e.\n",
    "ababab contains three a and three b, but it only counts once.\n",
    "Of these box IDs, four of them contain a letter which appears exactly twice, and three of them contain a letter which appears exactly three times. Multiplying these together produces a checksum of 4 * 3 = 12.\n",
    "\n",
    "What is the checksum for your list of box IDs?\n",
    "```\n",
    "\n",
    "### Proposed Solution Outline, Part 1:\n",
    "1. Use context manager (with open) to open and read files and create an array of strings (inputs are just like strings of letters)\n",
    "2. Apply frequency counter to each string and produce frequency count of each string of characters; create new array of frequency count objects\n",
    "3. Run loop through frequency count objects "
   ]
  },
  {
   "cell_type": "code",
   "execution_count": 27,
   "metadata": {},
   "outputs": [
    {
     "name": "stdout",
     "output_type": "stream",
     "text": [
      "Number of twos: 248\n",
      "Number of threes: 24\n",
      "Checksum 5952\n"
     ]
    }
   ],
   "source": [
    "'''\n",
    "I used with open to create a list of strings (box codes I believe in this case)\n",
    "'''\n",
    "with open('raw_data_2.txt') as f:\n",
    "    code_list = f.read().strip().split('\\n')\n",
    "    \n",
    "# print(code_list)\n",
    "\n",
    "import collections\n",
    "\n",
    "def freq_count(input_string):\n",
    "    return dict(collections.Counter(input_string))\n",
    "\n",
    "test_word = freq_count('cheese')\n",
    "\n",
    "# Now I will use the above function to generate a new list of frequency count objects\n",
    "letter_count_list = [freq_count(code_string) for code_string in code_list]\n",
    "\n",
    "#print(letter_count_list)\n",
    "\n",
    "#print(type(test_word))\n",
    "#print(test_word['e'])\n",
    "\n",
    "def check_three(freq_dict):\n",
    "    for k,v in freq_dict.items():\n",
    "        if freq_dict[k] == 3:\n",
    "            #print('Three what', k)\n",
    "            return True\n",
    "        \n",
    "def check_two(freq_dict):\n",
    "    for k,v in freq_dict.items():\n",
    "        if freq_dict[k] == 2:\n",
    "            #print('Two what:',k)\n",
    "            return True\n",
    "\n",
    "two_counter = 0\n",
    "three_counter = 0\n",
    "\n",
    "for word_string in letter_count_list:\n",
    "    if check_two(word_string):\n",
    "        two_counter+=1\n",
    "        \n",
    "for word_string in letter_count_list:\n",
    "    if check_three(word_string):\n",
    "        three_counter+=1\n",
    "\n",
    "print('Number of twos:',two_counter)\n",
    "print('Number of threes:', three_counter)\n",
    "print('Checksum', two_counter * three_counter)"
   ]
  },
  {
   "cell_type": "markdown",
   "metadata": {},
   "source": [
    "## Day 2, Part 2:\n",
    "\n",
    "The second part's key problem is as follows:\n",
    "```\n",
    "The boxes will have IDs which differ by exactly one character at the same position in both strings. For example, given the following box IDs:\n",
    "\n",
    "abcde\n",
    "fghij\n",
    "klmno\n",
    "pqrst\n",
    "fguij\n",
    "axcye\n",
    "wvxyz\n",
    "The IDs abcde and axcye are close, but they differ by two characters (the second and fourth). However, the IDs fghij and fguij differ by exactly one character, the third (h and u). Those must be the correct boxes.\n",
    "\n",
    "What letters are common between the two correct box IDs? (In the example above, this is found by removing the differing character from either ID, producing fgij.)\n",
    "```\n",
    "\n",
    "### Proposed Solution Outline, Part 2:\n",
    "1. We can still use the same code string list as generated above using with open. \n",
    "2. Compare one string to other string in list; strings are compared to one another, if difference count > 1 return false; if not, we need the letters in common. \n",
    "3. Create a comparison function maybe that returns False or allows us to move on to the next word; some way to start looping through a word and then move on. there is only one pair of box id's that meets the criterion of all the same but for one letter.-->This might get messy and involve some nested for loops.\n"
   ]
  },
  {
   "cell_type": "code",
   "execution_count": 39,
   "metadata": {},
   "outputs": [
    {
     "name": "stdout",
     "output_type": "stream",
     "text": [
      "Found it fghij fguij\n",
      "Found it fguij fghij\n",
      "Found them krdmtuqjgwfoevnaboxyglzjph krdmtuqjgwfoevnaboxpglzjph\n"
     ]
    },
    {
     "data": {
      "text/plain": [
       "'From here I just sort of brute-forced compared the final two strings'"
      ]
     },
     "execution_count": 39,
     "metadata": {},
     "output_type": "execute_result"
    }
   ],
   "source": [
    "'''\n",
    "Maybe I should create a test array, using the above sample data as there is a known solution. \n",
    "\n",
    "'''\n",
    "test_code_list =['abcde','fghij','klmno', 'pqrst', 'fguij', 'axcye','wvxyz']\n",
    "\n",
    "difference_count = 0\n",
    "'''\n",
    "So I could just calc the Levenshtein Difference (how many changes to get)....\n",
    "\n",
    "Link: https://en.wikibooks.org/wiki/Algorithm_Implementation/Strings/Levenshtein_distance#Python\n",
    "\n",
    "I have no clear idea how the following function works; I only have a vague idea of what it does. \n",
    "'''\n",
    "\n",
    "def levenshtein(s1, s2):\n",
    "    if len(s1) < len(s2):\n",
    "        return levenshtein(s2, s1)\n",
    "\n",
    "    # len(s1) >= len(s2)\n",
    "    if len(s2) == 0:\n",
    "        return len(s1)\n",
    "\n",
    "    previous_row = range(len(s2) + 1)\n",
    "    for i, c1 in enumerate(s1):\n",
    "        current_row = [i + 1]\n",
    "        for j, c2 in enumerate(s2):\n",
    "            insertions = previous_row[j + 1] + 1 # j+1 instead of j since previous_row and current_row are one character longer\n",
    "            deletions = current_row[j] + 1       # than s2\n",
    "            substitutions = previous_row[j] + (c1 != c2)\n",
    "            current_row.append(min(insertions, deletions, substitutions))\n",
    "        previous_row = current_row\n",
    "    \n",
    "    return previous_row[-1]\n",
    "\n",
    "for word1 in test_code_list:\n",
    "    for word2 in test_code_list:\n",
    "        if levenshtein(word1,word2) == 1:\n",
    "            print('Found it', word1,word2)\n",
    "            break;\n",
    "            \n",
    "def pair_finder(codes):\n",
    "    for word1 in codes:\n",
    "        for word2 in codes:\n",
    "            if levenshtein(word1,word2) == 1:\n",
    "                print('Found them', word1, word2)\n",
    "                return [word1,word2]\n",
    "            \n",
    "pairs = pair_finder(code_list)\n",
    "\n",
    "\n",
    "\n",
    "'''From here I just sort of brute-forced compared the final two strings'''\n",
    "        "
   ]
  },
  {
   "cell_type": "code",
   "execution_count": null,
   "metadata": {},
   "outputs": [],
   "source": []
  }
 ],
 "metadata": {
  "kernelspec": {
   "display_name": "Python 3",
   "language": "python",
   "name": "python3"
  },
  "language_info": {
   "codemirror_mode": {
    "name": "ipython",
    "version": 3
   },
   "file_extension": ".py",
   "mimetype": "text/x-python",
   "name": "python",
   "nbconvert_exporter": "python",
   "pygments_lexer": "ipython3",
   "version": "3.7.0"
  }
 },
 "nbformat": 4,
 "nbformat_minor": 2
}
